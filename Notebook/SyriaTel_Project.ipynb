{
 "cells": [
  {
   "cell_type": "markdown",
   "id": "1ba5472c-93e1-4a86-b063-53987ff08fc4",
   "metadata": {},
   "source": [
    "### Customer Churn Prediction for SyriaTel: A Binary Classification Approach"
   ]
  },
  {
   "cell_type": "markdown",
   "id": "752db1a3-456d-46ca-aff3-dcf5061b3921",
   "metadata": {},
   "source": [
    "## 1. Business Understanding \n",
    "\n",
    "### 1.1 Problem Statement\n",
    "\n",
    "SyriaTel is a mobile telecommunications company that has built an unquestionable reputation in the industry over the years. It has established a strong and consistent source of revenue, thanks to its unrivaled market dominance.\n",
    "\n",
    "Like any other telecommunication business operating in a competitive environment, the telecommunication giant is taking precautionary measures to cushion itself against potential risks - particularly if the competition intensifies and some customers decide to switch loyalty to other emerging service providers. In addition, the company is interested in the factors that make customers switch loyalty, come up with customer retention policies, and maximize profits.\n",
    "\n",
    "Therefore, as a senior data scientist of the telecommunication giant, I have been tasked to come up with a predictive machine learning model to evaluate whether a customer will churn SyriaTel or remain loyal to the company in the near future.\n",
    "\n",
    "### 1.2 Business Objectives\n",
    "* Come up with a model to predict whether a customer churns or stays.\n",
    "* Analyze the factors contributing to churning.\n",
    "\n",
    "### 1.3 Success Metrics\n"
   ]
  },
  {
   "cell_type": "markdown",
   "id": "9fa06842-59aa-4922-8092-9058a6e6b931",
   "metadata": {},
   "source": [
    "## 2. Data Understanding"
   ]
  },
  {
   "cell_type": "code",
   "execution_count": null,
   "id": "780c7f29-8012-4a3e-867d-773a3e0e550e",
   "metadata": {},
   "outputs": [],
   "source": [
    "# importing librariesabs\n",
    "import pandas as pd \n",
    "import numpy as np \n",
    "import matplotlib.pyplot as plt \n",
    "import seaborn as sns \n",
    "import statsmodels.api as sm \n",
    "import re\n",
    "\n",
    "#import sklearn libraries\n",
    "from sklearn.preprocessing import LabelEncoder, OneHotEncoder, StandardScaler, MinMaxScaler\n",
    "from sklearn.model_selection import train_test_split\n",
    "from imblearn.over_sampling import SMOTE, SMOTEN\n",
    "from sklearn.linear_model import LogisticRegression\n",
    "from sklearn.tree import DecisionTreeClassifier\n",
    "from sklearn.ensemble import RandomForestClassifier\n",
    "from xgboost import XGBClassifier\n",
    "from sklearn.model_selection import GridSearchCV, RandomizedSearchCV\n",
    "from scipy.stats import randint\n",
    "from sklearn.metrics import accuracy_score, confusion_matrix, classification_report,roc_auc_score, roc_curve\n",
    "\n",
    "import warnings \n",
    "warnings.filterwarnings(\"ignore\");"
   ]
  },
  {
   "cell_type": "code",
   "execution_count": null,
   "id": "300f84f0-e0b7-48ed-88a2-9a3ea0fac22b",
   "metadata": {},
   "outputs": [],
   "source": []
  }
 ],
 "metadata": {
  "kernelspec": {
   "display_name": "Python (learn-env)",
   "language": "python",
   "name": "learn-env"
  },
  "language_info": {
   "codemirror_mode": {
    "name": "ipython",
    "version": 3
   },
   "file_extension": ".py",
   "mimetype": "text/x-python",
   "name": "python",
   "nbconvert_exporter": "python",
   "pygments_lexer": "ipython3",
   "version": "3.10.14"
  }
 },
 "nbformat": 4,
 "nbformat_minor": 5
}
